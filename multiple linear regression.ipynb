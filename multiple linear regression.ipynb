{
  "nbformat": 4,
  "nbformat_minor": 0,
  "metadata": {
    "colab": {
      "provenance": []
    },
    "kernelspec": {
      "name": "python3",
      "display_name": "Python 3"
    },
    "language_info": {
      "name": "python"
    }
  },
  "cells": [
    {
      "cell_type": "code",
      "execution_count": 1,
      "metadata": {
        "id": "UEBNqunESuuw"
      },
      "outputs": [],
      "source": [
        "# Import necessary libraries\n",
        "import numpy as np\n",
        "from sklearn.linear_model import LinearRegression\n",
        "from sklearn.model_selection import train_test_split\n",
        "from sklearn.metrics import mean_squared_error, r2_score"
      ]
    },
    {
      "cell_type": "code",
      "source": [
        "# Generate some sample data\n",
        "np.random.seed(0)"
      ],
      "metadata": {
        "id": "fjzERa0EViAB"
      },
      "execution_count": 2,
      "outputs": []
    },
    {
      "cell_type": "code",
      "source": [
        "# Creating independent variables X1, X2, X3 with 100 samples\n",
        "X1 = np.random.rand(100, 1)  # Independent variable 1\n",
        "X2 = np.random.rand(100, 1)  # Independent variable 2\n",
        "X3 = np.random.rand(100, 1)  # Independent variable 3"
      ],
      "metadata": {
        "id": "rMonz4oyViDB"
      },
      "execution_count": 3,
      "outputs": []
    },
    {
      "cell_type": "code",
      "source": [
        "# Combining independent variables into a single feature matrix X\n",
        "X = np.concatenate((X1, X2, X3), axis=1)"
      ],
      "metadata": {
        "id": "cIYeCDRZViMM"
      },
      "execution_count": 4,
      "outputs": []
    },
    {
      "cell_type": "code",
      "source": [
        "X"
      ],
      "metadata": {
        "colab": {
          "base_uri": "https://localhost:8080/"
        },
        "id": "Rz-EozeTViUa",
        "outputId": "3b7eadaa-09a5-4c6b-dfbe-1de006dd5652"
      },
      "execution_count": 9,
      "outputs": [
        {
          "output_type": "execute_result",
          "data": {
            "text/plain": [
              "array([[0.5488135 , 0.67781654, 0.31179588],\n",
              "       [0.71518937, 0.27000797, 0.69634349],\n",
              "       [0.60276338, 0.73519402, 0.37775184],\n",
              "       [0.54488318, 0.96218855, 0.17960368],\n",
              "       [0.4236548 , 0.24875314, 0.02467873],\n",
              "       [0.64589411, 0.57615733, 0.06724963],\n",
              "       [0.43758721, 0.59204193, 0.67939277],\n",
              "       [0.891773  , 0.57225191, 0.45369684],\n",
              "       [0.96366276, 0.22308163, 0.53657921],\n",
              "       [0.38344152, 0.95274901, 0.89667129],\n",
              "       [0.79172504, 0.44712538, 0.99033895],\n",
              "       [0.52889492, 0.84640867, 0.21689698],\n",
              "       [0.56804456, 0.69947928, 0.6630782 ],\n",
              "       [0.92559664, 0.29743695, 0.26332238],\n",
              "       [0.07103606, 0.81379782, 0.020651  ],\n",
              "       [0.0871293 , 0.39650574, 0.75837865],\n",
              "       [0.0202184 , 0.8811032 , 0.32001715],\n",
              "       [0.83261985, 0.58127287, 0.38346389],\n",
              "       [0.77815675, 0.88173536, 0.58831711],\n",
              "       [0.87001215, 0.69253159, 0.83104846],\n",
              "       [0.97861834, 0.72525428, 0.62898184],\n",
              "       [0.79915856, 0.50132438, 0.87265066],\n",
              "       [0.46147936, 0.95608363, 0.27354203],\n",
              "       [0.78052918, 0.6439902 , 0.79804683],\n",
              "       [0.11827443, 0.42385505, 0.18563594],\n",
              "       [0.63992102, 0.60639321, 0.95279166],\n",
              "       [0.14335329, 0.0191932 , 0.68748828],\n",
              "       [0.94466892, 0.30157482, 0.21550768],\n",
              "       [0.52184832, 0.66017354, 0.94737059],\n",
              "       [0.41466194, 0.29007761, 0.73085581],\n",
              "       [0.26455561, 0.61801543, 0.25394164],\n",
              "       [0.77423369, 0.4287687 , 0.21331198],\n",
              "       [0.45615033, 0.13547406, 0.51820071],\n",
              "       [0.56843395, 0.29828233, 0.02566272],\n",
              "       [0.0187898 , 0.56996491, 0.20747008],\n",
              "       [0.6176355 , 0.59087276, 0.42468547],\n",
              "       [0.61209572, 0.57432525, 0.37416998],\n",
              "       [0.616934  , 0.65320082, 0.46357542],\n",
              "       [0.94374808, 0.65210327, 0.27762871],\n",
              "       [0.6818203 , 0.43141844, 0.58678435],\n",
              "       [0.3595079 , 0.8965466 , 0.86385561],\n",
              "       [0.43703195, 0.36756187, 0.11753186],\n",
              "       [0.6976312 , 0.43586493, 0.51737911],\n",
              "       [0.06022547, 0.89192336, 0.13206811],\n",
              "       [0.66676672, 0.80619399, 0.71685968],\n",
              "       [0.67063787, 0.70388858, 0.3960597 ],\n",
              "       [0.21038256, 0.10022689, 0.56542131],\n",
              "       [0.1289263 , 0.91948261, 0.18327984],\n",
              "       [0.31542835, 0.7142413 , 0.14484776],\n",
              "       [0.36371077, 0.99884701, 0.48805628],\n",
              "       [0.57019677, 0.1494483 , 0.35561274],\n",
              "       [0.43860151, 0.86812606, 0.94043195],\n",
              "       [0.98837384, 0.16249293, 0.76532525],\n",
              "       [0.10204481, 0.61555956, 0.74866362],\n",
              "       [0.20887676, 0.12381998, 0.90371974],\n",
              "       [0.16130952, 0.84800823, 0.08342244],\n",
              "       [0.65310833, 0.80731896, 0.55219247],\n",
              "       [0.2532916 , 0.56910074, 0.58447607],\n",
              "       [0.46631077, 0.4071833 , 0.96193638],\n",
              "       [0.24442559, 0.069167  , 0.29214753],\n",
              "       [0.15896958, 0.69742877, 0.24082878],\n",
              "       [0.11037514, 0.45354268, 0.10029394],\n",
              "       [0.65632959, 0.7220556 , 0.01642963],\n",
              "       [0.13818295, 0.86638233, 0.92952932],\n",
              "       [0.19658236, 0.97552151, 0.66991655],\n",
              "       [0.36872517, 0.85580334, 0.78515291],\n",
              "       [0.82099323, 0.01171408, 0.28173011],\n",
              "       [0.09710128, 0.35997806, 0.58641017],\n",
              "       [0.83794491, 0.72999056, 0.06395527],\n",
              "       [0.09609841, 0.17162968, 0.4856276 ],\n",
              "       [0.97645947, 0.52103661, 0.97749514],\n",
              "       [0.4686512 , 0.05433799, 0.87650525],\n",
              "       [0.97676109, 0.19999652, 0.33815895],\n",
              "       [0.60484552, 0.01852179, 0.96157015],\n",
              "       [0.73926358, 0.7936977 , 0.23170163],\n",
              "       [0.03918779, 0.22392469, 0.94931882],\n",
              "       [0.28280696, 0.34535168, 0.9413777 ],\n",
              "       [0.12019656, 0.92808129, 0.79920259],\n",
              "       [0.2961402 , 0.7044144 , 0.63044794],\n",
              "       [0.11872772, 0.03183893, 0.87428797],\n",
              "       [0.31798318, 0.16469416, 0.29302028],\n",
              "       [0.41426299, 0.6214784 , 0.84894356],\n",
              "       [0.0641475 , 0.57722859, 0.61787669],\n",
              "       [0.69247212, 0.23789282, 0.01323686],\n",
              "       [0.56660145, 0.934214  , 0.34723352],\n",
              "       [0.26538949, 0.61396596, 0.14814086],\n",
              "       [0.52324805, 0.5356328 , 0.98182939],\n",
              "       [0.09394051, 0.58990998, 0.47837031],\n",
              "       [0.5759465 , 0.73012203, 0.49739137],\n",
              "       [0.9292962 , 0.311945  , 0.63947252],\n",
              "       [0.31856895, 0.39822106, 0.36858461],\n",
              "       [0.66741038, 0.20984375, 0.13690027],\n",
              "       [0.13179786, 0.18619301, 0.82211773],\n",
              "       [0.7163272 , 0.94437239, 0.18984791],\n",
              "       [0.28940609, 0.7395508 , 0.51131898],\n",
              "       [0.18319136, 0.49045881, 0.22431703],\n",
              "       [0.58651293, 0.22741463, 0.09784448],\n",
              "       [0.02010755, 0.25435648, 0.86219152],\n",
              "       [0.82894003, 0.05802916, 0.97291949],\n",
              "       [0.00469548, 0.43441663, 0.96083466]])"
            ]
          },
          "metadata": {},
          "execution_count": 9
        }
      ]
    },
    {
      "cell_type": "code",
      "source": [
        "# Generating a dependent variable Y with a linear relationship to X\n",
        "Y = 2 * X1 + 3 * X2 + 4 * X3 + np.random.randn(100, 1)  # Adding some random noise"
      ],
      "metadata": {
        "id": "QE3KB2HWViZz"
      },
      "execution_count": 10,
      "outputs": []
    },
    {
      "cell_type": "code",
      "source": [
        "# Splitting the data into training and testing sets (80% train, 20% test)\n",
        "X_train, X_test, y_train, y_test = train_test_split(X, Y, test_size=0.2, random_state=42)"
      ],
      "metadata": {
        "id": "rhelM4jKWAsf"
      },
      "execution_count": 11,
      "outputs": []
    },
    {
      "cell_type": "code",
      "source": [
        "# Creating and fitting the model\n",
        "model = LinearRegression()\n",
        "model.fit(X_train, y_train)\n"
      ],
      "metadata": {
        "colab": {
          "base_uri": "https://localhost:8080/",
          "height": 74
        },
        "id": "QfRU2Ne7WAxR",
        "outputId": "cf4ad361-31f3-44bf-83e9-8c6807dbc91f"
      },
      "execution_count": 12,
      "outputs": [
        {
          "output_type": "execute_result",
          "data": {
            "text/plain": [
              "LinearRegression()"
            ],
            "text/html": [
              "<style>#sk-container-id-1 {color: black;background-color: white;}#sk-container-id-1 pre{padding: 0;}#sk-container-id-1 div.sk-toggleable {background-color: white;}#sk-container-id-1 label.sk-toggleable__label {cursor: pointer;display: block;width: 100%;margin-bottom: 0;padding: 0.3em;box-sizing: border-box;text-align: center;}#sk-container-id-1 label.sk-toggleable__label-arrow:before {content: \"▸\";float: left;margin-right: 0.25em;color: #696969;}#sk-container-id-1 label.sk-toggleable__label-arrow:hover:before {color: black;}#sk-container-id-1 div.sk-estimator:hover label.sk-toggleable__label-arrow:before {color: black;}#sk-container-id-1 div.sk-toggleable__content {max-height: 0;max-width: 0;overflow: hidden;text-align: left;background-color: #f0f8ff;}#sk-container-id-1 div.sk-toggleable__content pre {margin: 0.2em;color: black;border-radius: 0.25em;background-color: #f0f8ff;}#sk-container-id-1 input.sk-toggleable__control:checked~div.sk-toggleable__content {max-height: 200px;max-width: 100%;overflow: auto;}#sk-container-id-1 input.sk-toggleable__control:checked~label.sk-toggleable__label-arrow:before {content: \"▾\";}#sk-container-id-1 div.sk-estimator input.sk-toggleable__control:checked~label.sk-toggleable__label {background-color: #d4ebff;}#sk-container-id-1 div.sk-label input.sk-toggleable__control:checked~label.sk-toggleable__label {background-color: #d4ebff;}#sk-container-id-1 input.sk-hidden--visually {border: 0;clip: rect(1px 1px 1px 1px);clip: rect(1px, 1px, 1px, 1px);height: 1px;margin: -1px;overflow: hidden;padding: 0;position: absolute;width: 1px;}#sk-container-id-1 div.sk-estimator {font-family: monospace;background-color: #f0f8ff;border: 1px dotted black;border-radius: 0.25em;box-sizing: border-box;margin-bottom: 0.5em;}#sk-container-id-1 div.sk-estimator:hover {background-color: #d4ebff;}#sk-container-id-1 div.sk-parallel-item::after {content: \"\";width: 100%;border-bottom: 1px solid gray;flex-grow: 1;}#sk-container-id-1 div.sk-label:hover label.sk-toggleable__label {background-color: #d4ebff;}#sk-container-id-1 div.sk-serial::before {content: \"\";position: absolute;border-left: 1px solid gray;box-sizing: border-box;top: 0;bottom: 0;left: 50%;z-index: 0;}#sk-container-id-1 div.sk-serial {display: flex;flex-direction: column;align-items: center;background-color: white;padding-right: 0.2em;padding-left: 0.2em;position: relative;}#sk-container-id-1 div.sk-item {position: relative;z-index: 1;}#sk-container-id-1 div.sk-parallel {display: flex;align-items: stretch;justify-content: center;background-color: white;position: relative;}#sk-container-id-1 div.sk-item::before, #sk-container-id-1 div.sk-parallel-item::before {content: \"\";position: absolute;border-left: 1px solid gray;box-sizing: border-box;top: 0;bottom: 0;left: 50%;z-index: -1;}#sk-container-id-1 div.sk-parallel-item {display: flex;flex-direction: column;z-index: 1;position: relative;background-color: white;}#sk-container-id-1 div.sk-parallel-item:first-child::after {align-self: flex-end;width: 50%;}#sk-container-id-1 div.sk-parallel-item:last-child::after {align-self: flex-start;width: 50%;}#sk-container-id-1 div.sk-parallel-item:only-child::after {width: 0;}#sk-container-id-1 div.sk-dashed-wrapped {border: 1px dashed gray;margin: 0 0.4em 0.5em 0.4em;box-sizing: border-box;padding-bottom: 0.4em;background-color: white;}#sk-container-id-1 div.sk-label label {font-family: monospace;font-weight: bold;display: inline-block;line-height: 1.2em;}#sk-container-id-1 div.sk-label-container {text-align: center;}#sk-container-id-1 div.sk-container {/* jupyter's `normalize.less` sets `[hidden] { display: none; }` but bootstrap.min.css set `[hidden] { display: none !important; }` so we also need the `!important` here to be able to override the default hidden behavior on the sphinx rendered scikit-learn.org. See: https://github.com/scikit-learn/scikit-learn/issues/21755 */display: inline-block !important;position: relative;}#sk-container-id-1 div.sk-text-repr-fallback {display: none;}</style><div id=\"sk-container-id-1\" class=\"sk-top-container\"><div class=\"sk-text-repr-fallback\"><pre>LinearRegression()</pre><b>In a Jupyter environment, please rerun this cell to show the HTML representation or trust the notebook. <br />On GitHub, the HTML representation is unable to render, please try loading this page with nbviewer.org.</b></div><div class=\"sk-container\" hidden><div class=\"sk-item\"><div class=\"sk-estimator sk-toggleable\"><input class=\"sk-toggleable__control sk-hidden--visually\" id=\"sk-estimator-id-1\" type=\"checkbox\" checked><label for=\"sk-estimator-id-1\" class=\"sk-toggleable__label sk-toggleable__label-arrow\">LinearRegression</label><div class=\"sk-toggleable__content\"><pre>LinearRegression()</pre></div></div></div></div></div>"
            ]
          },
          "metadata": {},
          "execution_count": 12
        }
      ]
    },
    {
      "cell_type": "code",
      "source": [
        "# Making predictions\n",
        "y_pred = model.predict(X_test)\n"
      ],
      "metadata": {
        "id": "3M0ufjwhWA6K"
      },
      "execution_count": 13,
      "outputs": []
    },
    {
      "cell_type": "code",
      "source": [
        "# Evaluating the model\n",
        "mse = mean_squared_error(y_test, y_pred)\n",
        "r2 = r2_score(y_test, y_pred)\n",
        "\n",
        "print(\"Coefficients:\", model.coef_)  # Coefficients of the regression model\n",
        "print(\"Intercept:\", model.intercept_)  # Intercept of the regression model\n",
        "print(\"Mean Squared Error:\", mse)\n",
        "print(\"R^2 Score:\", r2)"
      ],
      "metadata": {
        "colab": {
          "base_uri": "https://localhost:8080/"
        },
        "id": "WJ-ZRbjKWBCy",
        "outputId": "3a55f7ef-584c-4b49-e3d8-4084472c7673"
      },
      "execution_count": 14,
      "outputs": [
        {
          "output_type": "stream",
          "name": "stdout",
          "text": [
            "Coefficients: [[1.35092487 2.46928907 3.82187977]]\n",
            "Intercept: [0.55355768]\n",
            "Mean Squared Error: 1.1712328380179793\n",
            "R^2 Score: 0.7689111731217848\n"
          ]
        }
      ]
    }
  ]
}